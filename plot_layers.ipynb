{
 "cells": [
  {
   "cell_type": "code",
   "execution_count": 1,
   "id": "87361cfa-e847-4cbb-a756-8e1c54cc9ec5",
   "metadata": {},
   "outputs": [
    {
     "ename": "ModuleNotFoundError",
     "evalue": "No module named 'einops'",
     "output_type": "error",
     "traceback": [
      "\u001b[0;31m---------------------------------------------------------------------------\u001b[0m",
      "\u001b[0;31mModuleNotFoundError\u001b[0m                       Traceback (most recent call last)",
      "Cell \u001b[0;32mIn[1], line 2\u001b[0m\n\u001b[1;32m      1\u001b[0m \u001b[38;5;28;01mimport\u001b[39;00m \u001b[38;5;21;01mmatplotlib\u001b[39;00m\u001b[38;5;21;01m.\u001b[39;00m\u001b[38;5;21;01mpyplot\u001b[39;00m \u001b[38;5;28;01mas\u001b[39;00m \u001b[38;5;21;01mplt\u001b[39;00m\n\u001b[0;32m----> 2\u001b[0m \u001b[38;5;28;01mimport\u001b[39;00m \u001b[38;5;21;01meinops\u001b[39;00m\n\u001b[1;32m      3\u001b[0m \u001b[38;5;28;01mfrom\u001b[39;00m \u001b[38;5;21;01mpathlib\u001b[39;00m \u001b[38;5;28;01mimport\u001b[39;00m Path\n\u001b[1;32m      4\u001b[0m \u001b[38;5;28;01mimport\u001b[39;00m \u001b[38;5;21;01mtorch\u001b[39;00m\n",
      "\u001b[0;31mModuleNotFoundError\u001b[0m: No module named 'einops'"
     ]
    }
   ],
   "source": [
    "import matplotlib.pyplot as plt\n",
    "import einops\n",
    "from pathlib import Path\n",
    "import torch\n",
    "import torch as t\n",
    "from torchvision.transforms import ToPILImage"
   ]
  },
  {
   "cell_type": "code",
   "execution_count": 2,
   "id": "ddba803f-17a5-4185-a0d0-502997d5f8fe",
   "metadata": {},
   "outputs": [
    {
     "ename": "NameError",
     "evalue": "name 'Path' is not defined",
     "output_type": "error",
     "traceback": [
      "\u001b[0;31m---------------------------------------------------------------------------\u001b[0m",
      "\u001b[0;31mNameError\u001b[0m                                 Traceback (most recent call last)",
      "Cell \u001b[0;32mIn[2], line 1\u001b[0m\n\u001b[0;32m----> 1\u001b[0m \u001b[38;5;28;01mfor\u001b[39;00m i, checkpoint \u001b[38;5;129;01min\u001b[39;00m \u001b[38;5;28menumerate\u001b[39m([c \u001b[38;5;28;01mfor\u001b[39;00m c \u001b[38;5;129;01min\u001b[39;00m \u001b[38;5;28msorted\u001b[39m(\u001b[43mPath\u001b[49m(\u001b[38;5;124m\"\u001b[39m\u001b[38;5;124m./GAN\u001b[39m\u001b[38;5;124m\"\u001b[39m)\u001b[38;5;241m.\u001b[39mglob(\u001b[38;5;124m\"\u001b[39m\u001b[38;5;124m*.pt\u001b[39m\u001b[38;5;124m\"\u001b[39m), \n\u001b[1;32m      2\u001b[0m                          key\u001b[38;5;241m=\u001b[39m\u001b[38;5;28;01mlambda\u001b[39;00m x: \u001b[38;5;28mint\u001b[39m(\u001b[38;5;28mstr\u001b[39m(x)\u001b[38;5;241m.\u001b[39mreplace(\u001b[38;5;124m\"\u001b[39m\u001b[38;5;124mGAN/\u001b[39m\u001b[38;5;124m\"\u001b[39m, \u001b[38;5;124m\"\u001b[39m\u001b[38;5;124m\"\u001b[39m)\u001b[38;5;241m.\u001b[39mreplace(\u001b[38;5;124m\"\u001b[39m\u001b[38;5;124m_model.pt\u001b[39m\u001b[38;5;124m\"\u001b[39m, \u001b[38;5;124m\"\u001b[39m\u001b[38;5;124m\"\u001b[39m)))]):\n\u001b[1;32m      3\u001b[0m \u001b[38;5;66;03m#     plt.figure(str(checkpoint))\u001b[39;00m\n\u001b[1;32m      4\u001b[0m     fig, axes \u001b[38;5;241m=\u001b[39m plt\u001b[38;5;241m.\u001b[39msubplots(\u001b[38;5;241m128\u001b[39m\u001b[38;5;241m/\u001b[39m\u001b[38;5;241m/\u001b[39m\u001b[38;5;241m16\u001b[39m, \u001b[38;5;241m16\u001b[39m)\n\u001b[1;32m      5\u001b[0m     fig\u001b[38;5;241m.\u001b[39msuptitle(\u001b[38;5;124mf\u001b[39m\u001b[38;5;124m\"\u001b[39m\u001b[38;5;124mGenerator\u001b[39m\u001b[38;5;124m\"\u001b[39m)\n",
      "\u001b[0;31mNameError\u001b[0m: name 'Path' is not defined"
     ]
    }
   ],
   "source": [
    "for i, checkpoint in enumerate([c for c in sorted(Path(\"./GAN\").glob(\"*.pt\"), \n",
    "                         key=lambda x: int(str(x).replace(\"GAN/\", \"\").replace(\"_model.pt\", \"\")))]):\n",
    "#     plt.figure(str(checkpoint))\n",
    "    fig, axes = plt.subplots(128//16, 16)\n",
    "    fig.suptitle(f\"Generator\")\n",
    "\n",
    "    model = torch.load(checkpoint)\n",
    "\n",
    "    generator = model['generator_state_dict']\n",
    "    discrim = model['discriminator_state_dict']\n",
    "\n",
    "    out_kernel_weight = generator['weight']\n",
    "    out_kernel_bias = generator['bias']\n",
    "    \n",
    "    in_kernel_weight = discrim[\"weight\"]\n",
    "\n",
    "#     plotted = in_kernel_weight\n",
    "    plotted = t.nn.functional.tanh(out_kernel_weight)\n",
    "#     plotted = out_kernel_weight\n",
    "\n",
    "    if t.isnan(plotted).any():\n",
    "        break\n",
    "\n",
    "\n",
    "    for ax, kernel in zip(axes.flatten(), [k for k in plotted]):\n",
    "        kernel = einops.rearrange(kernel, \"c h w -> h w c\")\n",
    "    \n",
    "        # normalize\n",
    "        kernel = (kernel - t.min(plotted)) / (t.max(plotted) - t.min(plotted))\n",
    "        ax.imshow(kernel.cpu().numpy())\n",
    "        ax.get_xaxis().set_ticks([])\n",
    "        ax.get_yaxis().set_ticks([])\n",
    "        fig.subplots_adjust( left=None, bottom=None,  right=None, top=None, wspace=0, hspace=-0.8)\n",
    "        \n",
    "    plt.savefig(f\"./images/generator/{i + 100_000_000}.png\")\n",
    "    plt.show()\n",
    "    plt.close()\n",
    "    \n",
    "#     for ax, weight, bias in zip(axes.flatten(), out_kernel_weight, out_kernel_bias):\n",
    "# #         ax.imshow([weight + bias for weight, bias in zip(out_kernel_weight, out_kernel_bias)][1])\n",
    "#         ax.imshow(in_kernel_weight[0])\n",
    "\n",
    "for i, checkpoint in enumerate([c for c in sorted(Path(\"./GAN\").glob(\"*.pt\"), \n",
    "                         key=lambda x: int(str(x).replace(\"GAN/\", \"\").replace(\"_model.pt\", \"\")))]):\n",
    "#     plt.figure(str(checkpoint))\n",
    "    fig, axes = plt.subplots(128//16, 16)\n",
    "    fig.suptitle(f\"Discriminator\")\n",
    "\n",
    "    model = torch.load(checkpoint)\n",
    "\n",
    "    generator = model['generator_state_dict']\n",
    "    discrim = model['discriminator_state_dict']\n",
    "\n",
    "    out_kernel_weight = generator['weight']\n",
    "    out_kernel_bias = generator['bias']\n",
    "    \n",
    "    in_kernel_weight = discrim[\"weight\"]\n",
    "\n",
    "    if t.isnan(plotted).any():\n",
    "        break\n",
    "\n",
    "    plotted = in_kernel_weight\n",
    "#     plotted = t.nn.functional.tanh(out_kernel_weight)\n",
    "#     plotted = out_kernel_weight\n",
    "\n",
    "\n",
    "    for ax, kernel in zip(axes.flatten(), [k for k in plotted]):\n",
    "        kernel = einops.rearrange(kernel, \"c h w -> h w c\")\n",
    "    \n",
    "        # normalize\n",
    "        kernel = (kernel - t.min(plotted)) / (t.max(plotted) - t.min(plotted))\n",
    "        ax.imshow(kernel.cpu().numpy())\n",
    "        ax.get_xaxis().set_ticks([])\n",
    "        ax.get_yaxis().set_ticks([])\n",
    "        fig.subplots_adjust( left=None, bottom=None,  right=None, top=None, wspace=0, hspace=-0.8)\n",
    "        \n",
    "    plt.savefig(f\"./images/discriminator/{i + 100_000_000}.png\")\n",
    "    plt.show()\n",
    "    plt.close()"
   ]
  },
  {
   "cell_type": "code",
   "execution_count": null,
   "id": "e42e5f53-4742-4d5e-a73e-255213607bdc",
   "metadata": {},
   "outputs": [],
   "source": []
  },
  {
   "cell_type": "code",
   "execution_count": null,
   "id": "5768af9f-0c04-453b-9765-ef03e390d051",
   "metadata": {},
   "outputs": [],
   "source": []
  }
 ],
 "metadata": {
  "kernelspec": {
   "display_name": "Python 3 (ipykernel)",
   "language": "python",
   "name": "python3"
  },
  "language_info": {
   "codemirror_mode": {
    "name": "ipython",
    "version": 3
   },
   "file_extension": ".py",
   "mimetype": "text/x-python",
   "name": "python",
   "nbconvert_exporter": "python",
   "pygments_lexer": "ipython3",
   "version": "3.10.12"
  }
 },
 "nbformat": 4,
 "nbformat_minor": 5
}
